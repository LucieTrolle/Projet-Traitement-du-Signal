{
 "cells": [
  {
   "cell_type": "markdown",
   "metadata": {},
   "source": [
    "1. L'énergie auto-consommée est soit l'énergie photovoltaïque $ E^{PV}_{i}$ si elle ne couvre pas tous les besoins c'est-à-dire si $  E^{PV}_{i} < \\omega_{i} +P_{i} \\Delta t $ (les besoins sont alors satfisfaits à l'aide d'une source d'énergie complémentaire issue du réseau), soit l'énergie totale consommée ie. $ \\omega_{i} +P_{i}\\Delta t $ (dans le cas où l'énergie photovoltaïque est suffisante et où on a $\\omega_{i} +P_{i}\\Delta t < E^{PV}_{i} $ ). \n",
    "\n",
    "/$\\omega_{i}$ n'est pas pilotable et est donc une contrainte du point du vue de l'optimisation faite par l'utilisateur. Ainsi considérer $ min( E^{PV}_{i},\\omega_{i}+\\Delta t P_{i}) $ équivaut à étudier $min(E^{PV}_{i} - \\omega_{i},P_{i} \\Delta t )$.La difficulté est ici que la fonction à optimiser n'est pas continue, a fortiori non convexe."
   ]
  },
  {
   "cell_type": "markdown",
   "metadata": {},
   "source": [
    "2. Supposons, quitte à inverser $x_{1}$ et $x_{2}$ car ils jouent des rôles symétriques, que $x_{1}<x_{2}$ . On a $$ h(x_{1},x_{2})=\\frac{x_{1}e^{-\\alpha x_{1}}+ x_{2}e^{-\\alpha x_{2}}}{e^{-\\alpha x_{1}}+e^{-\\alpha x_{2}}} = \\frac{(x_{1}+x_{2}e^{-\\alpha(x_{2}-x_{1})}) e^{-\\alpha x_{1}}}{(1+e^{-\\alpha(x_{2}-x_{1})}) e^{-\\alpha x_{1}}} = \\frac{x_{1}+x_{2}e^{-\\alpha(x_{2}-x_{1})}}{1+e^{-\\alpha (x_{2}-x_{1})}} $$\n",
    "Alors, pour $ \\alpha >>1 $, on a $h(x_{1},x_{2})=x_{1}=min(x_{1},x_{2}) $\n",
    "D'où, pour $\\alpha$ grand, $$ h(x_{1},x_{2}) \\approx min(x_{1},x_{2}) $$"
   ]
  },
  {
   "cell_type": "markdown",
   "metadata": {},
   "source": [
    "3. On applique le premier principe de la thermodynamique industrielle au sytème ouvert qu'est le ballon, on a: (puisqu'il n'y a aucune pièce en mouvement)\n",
    "$$ \\frac{dH}{dt} = P_{th} +D_{m_{e}}(t) h_{e}(t) - D_{m_{s}}(t) h_{s}(t) $$ \n",
    "\n",
    "On suppose $ D_{m_{e}} = 0 $,$ D_{m_{s}} = D_{m}$ constante. Pour un corps pur monophasé assimilé à une phase condensée idéale, on a $h_{e}(t)=\\frac{C_{p}}{m} T(t)$. Il vient alors que $$ C_{p} \\frac{dT}{dt} = P_{th} + D_{m}\\frac{C_{p}}{m} T(t) $$. Alors, $ \\frac{dT}{dt}  - \\frac{D_{m}}{m} T(t)= \\frac{P_{th}}{C_{p}} $. On pose $ k=\\frac{D_{m}}{m}$ et on sait que $ P_{th}=(P_{i} - Q_{i})$ (la puissante purement thermique correspond à la puissance totale transférée au réservoir, en retirant \"la puissance de soutirage\"). On a alors $T(t) = A e^{-k t} + \\frac{(P_{i} - Q_{i}) m }{C_{p} D_{m}} $\n",
    "\n",
    "On impose $T_{i}=T(t=0)$ d'où $ A=T_{i}-\\frac{(P_{i} - Q_{i}) m }{C_{p} D_{m}} $ et on impose $ T(\\Delta t ) = T_{i+1} $ donc $$ T_{i+1}=T_{i} e^{-k \\Delta t } +  \\frac{(P_{i} - Q_{i}) C}{k} (1-e^{-k \\Delta t }) $$"
   ]
  },
  {
   "cell_type": "markdown",
   "metadata": {},
   "source": [
    "4. On pose alors le problème d'optimisation suivant: \n",
    "On pose $$ f(x)= - \\Sigma^{i=N+1}_{i=2} h(E^{PV}_{i} - \\omega_{i},x_{i} \\Delta t) $$ Le moins vient du fait que l'on ait de maximiser cette énergie auto-consommée. De plus, on introduit $$  c_{eq}(x)= \\begin{pmatrix}  \n",
    "x_{N+2} - T_{in} \\\\\n",
    "...\\\\ \n",
    "x_{N+3}- x_{N+2} e^{-k \\Delta t } +  \\frac{(x_{1} - Q_{1}) C}{k} (1-e^{-k \\Delta t }) \\\\\n",
    "x_{N+4}-x_{N+3}  e^{-k \\Delta t } +  \\frac{(x_{2} - Q_{2}) C}{k} (1-e^{-k \\Delta t }) \\\\\n",
    "x_{N+1}\n",
    "\\end{pmatrix} $$ et $$ c_{in}(x) =  \\begin{pmatrix}  \n",
    "x_{1} - P_{M}\\\\\n",
    "... \\\\\n",
    "x_{N+1} - P_{M} \\\\\n",
    "x_{N+2}-T_{sat} \\\\\n",
    "... \\\\\n",
    "x_{2N+2}-T_{sat} \\\\\n",
    "\\end{pmatrix} $$\n",
    "\n",
    "Alors pour $$ x= \\begin{pmatrix}\n",
    "P_{0}\\\\ \n",
    "P_{1}\\\\\n",
    "... \\\\\n",
    "P_{N}\\\\\n",
    "T_{0}\\\\\n",
    "T_{1}\\\\\n",
    "... \\\\\n",
    "T_{N} \\\\\n",
    "\\end{pmatrix} $$ , d'où\n",
    "$ f(x) = -\\Sigma^{i=N}_{i=1} h(E^{PV}_{i} - \\omega_{i},P_{i} \\Delta t) $ avec $$ c_{eq}(x)=0,  c_{in}(x) < 0 $$"
   ]
  },
  {
   "cell_type": "markdown",
   "metadata": {},
   "source": []
  },
  {
   "cell_type": "code",
   "execution_count": null,
   "metadata": {
    "vscode": {
     "languageId": "plaintext"
    }
   },
   "outputs": [],
   "source": [
    "5. Au vu de la forme du problème, f étant deux fois différentiable, car h l'est, on peut envisager une optimisation avec la méthode du hessien ou du hessien approché."
   ]
  }
 ],
 "metadata": {
  "language_info": {
   "name": "python"
  }
 },
 "nbformat": 4,
 "nbformat_minor": 2
}

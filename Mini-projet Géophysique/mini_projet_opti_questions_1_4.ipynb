{
 "cells": [
  {
   "cell_type": "markdown",
   "metadata": {
    "vscode": {
     "languageId": "plaintext"
    }
   },
   "source": [
    "<h2> 1. Etude du Problème d'optimisation"
   ]
  },
  {
   "cell_type": "markdown",
   "metadata": {},
   "source": [
    "\n",
    "**1. Interpréter la définition de l’énergie auto-consommée (3). Justifier que l’on peut de façon équivalente\n",
    "considérer la quantité $\\sum^N_{i=1}\\min(\\^{E_i},P_i\\Delta t)$ avec $\\^{E_i} = E^{PV}_{i} -\\omega_{i}$\n",
    ". Quelle difficulté comporte ce coût (tout comme le précédent) dans le cadre d’un\n",
    "problème d’optimisation ?**\n",
    "\n"
   ]
  },
  {
   "cell_type": "markdown",
   "metadata": {},
   "source": [
    "L'énergie auto-consommée est soit l'énergie totale produite par les panneaux photovoltaïques c'est-à-dire $ E^{PV}_{i}$ si elle ne couvre pas tous les besoins en énergie du batîment ($E^{PV}_{i} < \\omega_{i} +P_{i} \\Delta t $). \n",
    "Sinon, au contraire, quand l'énergie produite est largement suffisante aux besoins ($\\omega_{i} +P_{i}\\Delta t < E^{PV}_{i} $), l'énergie auto-consommée est l'énergie nécessaire aux besoins soit $\\omega_{i} +P_{i}$.\n",
    "\n",
    "Pour représenter ces deux cas, la formulation  $ \\min( E^{PV}_{i},\\omega_{i}+\\Delta t P_{i}) $ est la plus adaptée. \n",
    "\n",
    "$\\omega_{i}$ n'est pas une demande pilotable. Il s'agit alors d'une contrainte au point du vue de l'optimisation. Ainsi considérer $ min( E^{PV}_{i},\\omega_{i}+\\Delta t P_{i}) $ équivaut à étudier $\\min(E^{PV}_{i} - \\omega_{i},P_{i} \\Delta t )$ c'est-à-dire $\\min(\\^{E_i},P_i\\Delta t)$.\n",
    "\n",
    "Puisque l'on s'intérrèsse à l'énergie auto-consommé du bâtiment sur un intervalle de temps $[t_0;t_f]$, on fait alors la somme des énergies auto-consommées à chaque pas de temps : $\\sum^N_{i=1}\\min(\\^{E_i},P_i\\Delta t)$.\n",
    "\n",
    "La fonction à optimiser est une somme, elle n'est donc pas continue et a fortiori non convexe, ce qui rajoute une difficulté. "
   ]
  },
  {
   "cell_type": "markdown",
   "metadata": {
    "vscode": {
     "languageId": "plaintext"
    }
   },
   "source": [
    "**2. En lieu et place de  $\\sum^N_{i=1}\\min(\\^{E_i}, P_i\\Delta t)$, on se propose de maximiser la fonction dite de \"soft-min\" :  $\\sum^N_{i=1}h(\\^{E_i},P_i\\Delta t)$ où $h :(x_1,x_2) \\in \\mathbb{R}^2\\rightarrow \\frac{x_{1}e^{-\\alpha x_{1}}+ x_{2}e^{-\\alpha x_{2}}}{e^{-\\alpha x_{1}}+e^{-\\alpha x_{2}}} $\n",
    "avec $\\alpha > 0$, une constante. Justifier que, pour $\\alpha$ grand, $h$ est une bonne approximation de la fonction min.\n",
    "Quel intérêt a-t-on alors à considérer ce problème approché plutôt que le problème original ?**"
   ]
  },
  {
   "cell_type": "markdown",
   "metadata": {},
   "source": [
    "Supposons, quitte à inverser $x_{1}$ et $x_{2}$ car ils jouent des rôles symétriques, que $x_{1}<x_{2}$.\n",
    "\n",
    "On a $$ h(x_{1},x_{2})=\\frac{x_{1}e^{-\\alpha x_{1}}+ x_{2}e^{-\\alpha x_{2}}}{e^{-\\alpha x_{1}}+e^{-\\alpha x_{2}}} = \\frac{(x_{1}+x_{2}e^{-\\alpha(x_{2}-x_{1})}) e^{-\\alpha x_{1}}}{(1+e^{-\\alpha(x_{2}-x_{1})}) e^{-\\alpha x_{1}}} = \\frac{x_{1}+x_{2}e^{-\\alpha(x_{2}-x_{1})}}{1+e^{-\\alpha (x_{2}-x_{1})}} $$\n",
    "Alors, pour $ \\alpha \\ll 1 $, on a $h(x_{1},x_{2})=x_{1}$.\n",
    "Et inversement si $x_{1}>x_{2}$, on obtient $h(x_{1},x_{2})=x_{2}$\n",
    "D'où, pour $\\alpha$ grand, $h(x_{1},x_{2}) \\approx \\min(x_{1},x_{2}) $.\n",
    "\n",
    "On a plus intéret à étudier cette fonction soft min car celle-ci est continue et convexe. "
   ]
  },
  {
   "cell_type": "markdown",
   "metadata": {
    "vscode": {
     "languageId": "plaintext"
    }
   },
   "source": [
    "**3. Interpréter l’équation $T_{i+1}= e^{-k\\Delta t}T_i + \\frac{1 - e^{-k\\Delta t}}{k}C(-Q_i +P_i)$. Cette modélisation vous semble-t-elle raisonnable ?**"
   ]
  },
  {
   "cell_type": "markdown",
   "metadata": {},
   "source": [
    "On applique le premier principe de la thermodynamique industrielle au sytème ouvert qu'est le ballon, on a: (puisqu'il n'y a aucune pièce en mouvement)\n",
    "$$ \\frac{dH}{dt} = P_{th} +D_{m_{e}}(t) h_{e}(t) - D_{m_{s}}(t) h_{s}(t) $$ \n",
    "\n",
    "Avec  $P_{th}$ la puissante purement thermique, elle correspond à la puissance totale transférée au réservoir, en retirant \"la puissance de soutirage\" c'est à dire finalement que $P_{th}=(P_{i} - Q_{i})$. \n",
    "On suppose les débits massiques en entrée et en sortie tel que : $D_{m_{e}} = 0 $,$ D_{m_{s}} = D_{m}$ constante. \n",
    "\n",
    "De plus, pour un corps pur monophasé assimilé à une phase condensée idéale, on a $h_{e}(t)=\\frac{C_{p}}{m} T(t)$\n",
    "\n",
    "Il vient alors que $$ C_{p} \\frac{dT}{dt} = P_{th} + D_{m}\\frac{C_{p}}{m} T(t) $$\n",
    "\n",
    "Alors, $$ \\frac{dT}{dt}  - \\frac{D_{m}}{m} T(t)= \\frac{P_{th}}{C_{p}} $$. On pose $ k=\\frac{D_{m}}{m}$ et on résoud l'équations différentielles avec la solution homogène et la solution particulière. On obtient alors : \n",
    "$$T(t) = A e^{-k t} + \\frac{(P_{i} - Q_{i}) m }{C_{p} D_{m}} $$\n",
    "\n",
    "On impose $C_p =\\frac{1}{C} $ et $T_{i}=T(t=0)$ d'où $ A=T_{i}-\\frac{(P_{i} - Q_{i}) C}{k} $ et on impose $ T(\\Delta t ) = T_{i+1} $ donc $$ T_{i+1}=T_{i} e^{-k \\Delta t } +  \\frac{(P_{i} - Q_{i}) C}{k} (1-e^{-k \\Delta t }) $$"
   ]
  },
  {
   "cell_type": "markdown",
   "metadata": {},
   "source": [
    "**4. Formuler le problème d’optimisation à résoudre sous la forme :\n",
    "$ \\min f(x)$\n",
    "tel que $c_{eq}(x) = 0$ et $ c_{in}(x) ≤ 0$. On précisera les variables de décision x, leur nombre n, les contraintes $c_{eq}$ et $c_{in}$ ainsi que la fonction\n",
    "objectif f à minimiser.**"
   ]
  },
  {
   "cell_type": "markdown",
   "metadata": {},
   "source": [
    "On pose alors le problème d'optimisation suivant: \n",
    "On pose $$ f(x)= - \\Sigma^{N+1}_{i=2} h(E^{PV}_{i} - \\omega_{i},x_{i} \\Delta t) $$ (Le moins vient du fait que l'on ait de maximiser cette énergie auto-consommée.)\n",
    "\n",
    "Cette fonction prend en argument les premières coordonnées du vecteurs : $$ x= \\begin{pmatrix}\n",
    "P_{0}\\\\ \n",
    "P_{1}\\\\\n",
    "... \\\\\n",
    "P_{N}\\\\\n",
    "T_{0}\\\\\n",
    "T_{1}\\\\\n",
    "... \\\\\n",
    "T_{N} \\\\\n",
    "\\end{pmatrix} $$ \n",
    "\n",
    "\n",
    "On introduit alors la contraintes $$  c_{eq}(x)= \\begin{pmatrix}  \n",
    "x_{N+2} - T_{in} \\\\\n",
    "...\\\\ \n",
    "x_{N+3}- x_{N+2} e^{-k \\Delta t } +  \\frac{(x_{1} - Q_{1}) C}{k} (1-e^{-k \\Delta t }) \\\\\n",
    "x_{N+4}-x_{N+3}  e^{-k \\Delta t } +  \\frac{(x_{2} - Q_{2}) C}{k} (1-e^{-k \\Delta t }) \\\\\n",
    "x_{N+1}\n",
    "\\end{pmatrix} $$ qui vient de l'équation : $T_{i+1}=T_{i} e^{-k \\Delta t } +  \\frac{(P_{i} - Q_{i}) C}{k} (1-e^{-k \\Delta t }) $\n",
    "\n",
    "Et la seconde contrainte inégalité :\n",
    "$$ c_{in}(x) =  \\begin{pmatrix}  \n",
    "x_{1} - P_{M}\\\\\n",
    "... \\\\\n",
    "x_{N+1} - P_{M} \\\\\n",
    "x_{N+2}-T_{sat} \\\\\n",
    "... \\\\\n",
    "x_{2N+2}-T_{sat} \\\\\n",
    "\\end{pmatrix} $$\n",
    "qui vient de la condition : $0 ≤ P_i ≤ P_M$ et $ 0 ≤ T_i ≤ T_{sat}$\n",
    "\n",
    " d'où\n",
    "$ f(x) = -\\Sigma^{i=N}_{i=1} h(E^{PV}_{i} - \\omega_{i},P_{i} \\Delta t) $ avec $$ c_{eq}(x)=0,  c_{in}(x) < 0 $$"
   ]
  },
  {
   "cell_type": "markdown",
   "metadata": {
    "vscode": {
     "languageId": "plaintext"
    }
   },
   "source": [
    "<h2> 2. Etude et résolution numérique du problème soft-min"
   ]
  },
  {
   "cell_type": "markdown",
   "metadata": {},
   "source": [
    "**5. Quelles méthodes de résolution peuvent être envisagées pour ce problème ?**\n"
   ]
  },
  {
   "cell_type": "markdown",
   "metadata": {
    "vscode": {
     "languageId": "plaintext"
    }
   },
   "source": [
    "Au vu de la forme du problème, f étant deux fois différentiable, car $h$ l'est, on peut envisager une optimisation avec la méthode du hessien ou du hessien approché."
   ]
  },
  {
   "cell_type": "markdown",
   "metadata": {
    "vscode": {
     "languageId": "plaintext"
    }
   },
   "source": [
    "**6. Développer un algorithme de résolution dans le cas de l’horizon de temps $t_0 = 6h$ et $t_f = 19h$ avec\n",
    "$∆t = 0.25h$, dans un cas sans usage non-pilotables ($w_i = 0$ pour tout i).**\n",
    "\n",
    "**On tracera notamment les graphes suivants :**\n",
    "- **l’évolution temporelle de la température du ballon, que l’on superposera aux bornes sur la température**\n",
    "- **l’évolution temporelle de la puissance fournie au ballon, de la courbe d’énergie photovoltaïque produite et de l’énergie photovoltaïque auto-consommée correspondante au cours du temps.**\n",
    "\n",
    "**Commenter les résultats obtenus.**"
   ]
  },
  {
   "cell_type": "code",
   "execution_count": 4,
   "metadata": {},
   "outputs": [],
   "source": [
    "import casadi as ca\n",
    "\n",
    "# Paramètres\n",
    "t0 = 6\n",
    "tf= 19\n",
    "deltat = 0.25\n",
    "N = (tf-t0)/deltat\n",
    "\n",
    "alpha = 100\n",
    "k = 0.2  # h^-1\n",
    "Tsat = 70  # °C\n",
    "Tf = 70  # °C\n",
    "Tin = 50  # °C\n",
    "C = 100  # C/W h\n",
    "PM = 3  # kW\n",
    "\n",
    "# Création du symbole pour la variable d'optimisation\n",
    "x = ca.MX.sym('x', 2 * N)\n",
    "\n",
    "# Définition de la fonction objectif\n",
    "f_obj = -ca.sum1((2 * ca.exp(-(ca.repmat(ca.DM([i for i in range(1, N + 2)]), 1, N) - 13) ** 2 / 9) - alpha) * x[1:N + 2])\n",
    "\n",
    "# Définition des contraintes d'égalité\n",
    "eq_constraints = []\n",
    "eq_constraints.append(x[N + 1] - Tin)\n",
    "for i in range(1, N):\n",
    "    eq_constraints.append(x[N + i + 1] - x[N + i] * ca.exp(-k) +\n",
    "                          (x[i] - (3 if i == 12 else 0)) * C * (1 - ca.exp(-k)))\n",
    "eq_constraints.append(x[-1] - Tf)\n",
    "\n",
    "# Définition des contraintes d'inégalité\n",
    "ineq_constraints = []\n",
    "for i in range(N):\n",
    "    ineq_constraints.append(x[i + 1] - PM)\n",
    "    ineq_constraints.append(x[N + i + 1] - Tsat)\n",
    "\n",
    "# Concaténation des contraintes\n",
    "constraints = eq_constraints + ineq_constraints\n",
    "\n",
    "# Création de l'objet problème d'optimisation\n",
    "opt_prob = {'f': f_obj, 'x': x, 'g': ca.vertcat(*constraints)}\n",
    "\n",
    "# Configuration du solver\n",
    "solver_opts = {'ipopt.print_level': 0, 'print_time': 0, 'ipopt.tol': 1e-8, 'ipopt.max_iter': 1000}\n",
    "\n",
    "# Résolution du problème d'optimisation\n",
    "solver = ca.nlpsol('solver', 'ipopt', opt_prob, solver_opts)\n",
    "x0 = ca.DM.zeros(2 * 25)\n",
    "sol = solver(x0=x0)\n",
    "\n",
    "# Affichage de la solution\n",
    "print(\"Solution optimale:\")\n",
    "print(sol['x'].full().flatten())"
   ]
  },
  {
   "cell_type": "markdown",
   "metadata": {},
   "source": [
    "<h2> 3. Etude et résolution numérique du problème avec variable slack"
   ]
  },
  {
   "cell_type": "markdown",
   "metadata": {},
   "source": [
    "**7. On se propose d’introduire $N + 1$ variables additionnelles $s_i$, telles que $s_i ≤ E^{PV}_i$\n",
    "et $s_i ≤ P_i$ pour tout $i = 0, ..., N $. Reformuler le problème d’optimisation à l’aide de ces variables.**"
   ]
  },
  {
   "cell_type": "markdown",
   "metadata": {},
   "source": [
    "**8. Etudier la convexité de ce nouveau problème. Appartient-il à une famille particulière de problème\n",
    "d’optimisation ? Quels avantages/inconvénients présente-t-il par rapport à la formulation précédente ?**"
   ]
  },
  {
   "cell_type": "markdown",
   "metadata": {},
   "source": [
    "**9. Résoudre ce nouveau problème avec les mêmes paramètres que précédemment. Comparer les solutions\n",
    "obtenues.**"
   ]
  },
  {
   "cell_type": "markdown",
   "metadata": {},
   "source": [
    "<h2> 4. Pilotage d’usages blancs et introduction à l’optimisation entière"
   ]
  },
  {
   "cell_type": "markdown",
   "metadata": {},
   "source": [
    "**10. On suppose dans un premier temps que le cycle de la machine à laver est lancée à un temps ti0 fixe\n",
    "donné. Ecrire le problème d’optimisation correspondant.**"
   ]
  },
  {
   "cell_type": "markdown",
   "metadata": {},
   "source": [
    "**11. A l’aide de ce sous-problème, proposer une approche combinatoire exhaustive permettant de résoudre\n",
    "le problème originel. L’implémenter avec les mêmes paramètres que précédemment ainsi que $n_L = 6$\n",
    "et $\\bar{P_L} = 0.25W$. Commenter le résultat obtenu. Etudier l’extensibilité de cette technique de résolution au cas de plusieurs autres usages pilotables.**"
   ]
  },
  {
   "cell_type": "markdown",
   "metadata": {},
   "source": [
    "**12. Au vu de la question précédente, on cherche une autre technique de résolution. Malheureusement,\n",
    "le comportement (9) ne peut être modélisé par des variables continues. On définit donc N variables\n",
    "binaires $δi ∈ {0, 1}$ vérifiant, pour $M \\gg 1$ une grande constante,**\n",
    "- **Justifier que (10) est bien équivalent à (9). Ce type d’écriture de contraintes porte le nom de\n",
    "\"technique du grand M\". Justifier ce nom.**\n",
    "- **Ecrire le problème d’optimisation correspondant, avec des variables de décision continues et binaires. Ce type de problème est nommé \"Mixed-Integer\" et peut être résolution par l’algorithme\n",
    "de Branch and Bound proposé ci-dessous. Détailler comment l’appliquer au cas présent.**\n"
   ]
  }
 ],
 "metadata": {
  "kernelspec": {
   "display_name": "base",
   "language": "python",
   "name": "python3"
  },
  "language_info": {
   "codemirror_mode": {
    "name": "ipython",
    "version": 3
   },
   "file_extension": ".py",
   "mimetype": "text/x-python",
   "name": "python",
   "nbconvert_exporter": "python",
   "pygments_lexer": "ipython3",
   "version": "3.11.4"
  }
 },
 "nbformat": 4,
 "nbformat_minor": 2
}

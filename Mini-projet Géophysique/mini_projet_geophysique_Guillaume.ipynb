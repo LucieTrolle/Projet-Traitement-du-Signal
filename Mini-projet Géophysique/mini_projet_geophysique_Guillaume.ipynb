{
 "cells": [
  {
   "cell_type": "markdown",
   "metadata": {},
   "source": [
    "# Mini-projet géophysique : interpolation de données manquantes\n",
    "\n",
    "*Contexte* : dans le cadre d'acquisition de données sismiques, des capteurs (récepteurs) sont positionnés le long d'une ligne à la surface de la terre. Chacun enregistre au cours du temps le déplacement des particules (signal oscillant) qui varie lors du passage d'une onde acoustique ou élastique. Cet enregistrement s'appelle une **trace**. C'est une colonne dans les représentation graphiques plus bas.\n",
    "\n",
    "En pratique, il arrive que certains capteurs soient défaillants ou encore qu'ils ne soient pas présents dans certaines zones (pour des problèmes d'accessibilité par exemple). L'objectif principal du mini-projet est de reconstituer les traces manquantes.\n",
    "\n",
    "*Hypothèses* : nous ferons l'hypothèse que les **signaux sont essentiellement linéraires** dans les enregistrements (i.e. on peut localement déduire la trace suivante à partir de la trace précédente, avec un décalage en temps qui est proportionnel à la distance entre les traces). L'approximation linéaire est explicitée plus bas.\n",
    "\n",
    "*Notions abordées* : \n",
    "* Lien entre la représentation avant et après transformée de Fourier 2d\n",
    "* Effets de bords\n",
    "\n",
    "Pour cela, nous considérons l'approche suivante :\n",
    "* Transformée de Fourier 2d\n",
    "* Identification des événements principaux\n",
    "* Définition d'un masque\n",
    "* Reconstitution des traces manquantes par transformee de Fourier inverse\n",
    "\n",
    "L'approche est appliquée sur 3 jeux de données : \n",
    "* Donnees simples (un seul événement) : `gpanel1.npy`\n",
    "* Donnees complexes (4 événements) : `gpanel2.npy`\n",
    "* Sur vos propres données.\n",
    "\n",
    "*Attentes* :\n",
    "* Regard critique sur les résulats obtenus\n",
    "* Inventivité (pour la troisième application)\n",
    "\n",
    "*Consignes* :\n",
    "* **Très important**: pour toutes les figures, bien indiquer les axes avec les bonnes unités et des labels lisibles"
   ]
  },
  {
   "cell_type": "code",
   "execution_count": null,
   "metadata": {
    "ExecuteTime": {
     "end_time": "2023-04-03T18:27:30.073164Z",
     "start_time": "2023-04-03T18:27:29.810798Z"
    }
   },
   "outputs": [
    {
     "ename": "",
     "evalue": "",
     "output_type": "error",
     "traceback": [
      "\u001b[1;31mFailed to start the Kernel. \n",
      "\u001b[1;31mUnable to start Kernel 'minicondanouveau (Python 3.11.4)' due to a timeout waiting for the ports to get used. \n",
      "\u001b[1;31mView Jupyter <a href='command:jupyter.viewOutput'>log</a> for further details."
     ]
    }
   ],
   "source": [
    "# Modules\n",
    "import numpy as np\n",
    "import matplotlib.pyplot as plt"
   ]
  },
  {
   "cell_type": "markdown",
   "metadata": {},
   "source": [
    "**Lecture des données**"
   ]
  },
  {
   "cell_type": "code",
   "execution_count": null,
   "metadata": {
    "ExecuteTime": {
     "end_time": "2023-04-03T18:27:30.805428Z",
     "start_time": "2023-04-03T18:27:30.796606Z"
    }
   },
   "outputs": [
    {
     "ename": "",
     "evalue": "",
     "output_type": "error",
     "traceback": [
      "\u001b[1;31mFailed to start the Kernel. \n",
      "\u001b[1;31mUnable to start Kernel 'minicondanouveau (Python 3.11.4)' due to a timeout waiting for the ports to get used. \n",
      "\u001b[1;31mView Jupyter <a href='command:jupyter.viewOutput'>log</a> for further details."
     ]
    }
   ],
   "source": [
    "# Labelsize (display)\n",
    "labelsize   = 14\n",
    "    \n",
    "# Load the simple input data\n",
    "# Input data (with missing traces)\n",
    "gpanel1 = np.load('gpanel1.npy')\n",
    "# Dense data (with all traces, only for comparison)\n",
    "panel_dense1 = np.load('panel_dense1.npy')\n",
    "nt, nx = gpanel1.shape\n",
    "print(\"Taille des données :\",nt,nx)\n",
    "\n",
    "# Missing traces (index number)\n",
    "mtr = [2,5,6,11,12,20,21,22,23]\n",
    "\n",
    "# Vertical axis -- time\n",
    "dt   = 3.125e-3  # increment (s)\n",
    "at   = np.linspace(0,dt*(nt-1),nt)\n",
    "# Horizontal axis -- space\n",
    "dx   = 10. # increment (m)\n",
    "ax   = np.linspace(0,dx*(nx-1),nx)"
   ]
  },
  {
   "cell_type": "markdown",
   "metadata": {},
   "source": [
    "**Affichage des données**"
   ]
  },
  {
   "cell_type": "code",
   "execution_count": null,
   "metadata": {
    "ExecuteTime": {
     "end_time": "2023-04-03T18:27:32.390963Z",
     "start_time": "2023-04-03T18:27:32.076267Z"
    },
    "scrolled": false
   },
   "outputs": [
    {
     "ename": "",
     "evalue": "",
     "output_type": "error",
     "traceback": [
      "\u001b[1;31mFailed to start the Kernel. \n",
      "\u001b[1;31mUnable to start Kernel 'minicondanouveau (Python 3.11.4)' due to a timeout waiting for the ports to get used. \n",
      "\u001b[1;31mView Jupyter <a href='command:jupyter.viewOutput'>log</a> for further details."
     ]
    }
   ],
   "source": [
    "# Display of the input data\n",
    "vmax    = np.max(np.abs(gpanel1))\n",
    "fig = plt.figure()\n",
    "av = plt.subplot(111)\n",
    "plt.imshow(gpanel1,extent=[ax[0],ax[-1],at[-1],at[0]],aspect='auto')\n",
    "plt.title('Observables (avec traces manquantes, mises à zero)', fontsize = labelsize)\n",
    "av.set_ylabel(\"Time (s)\", fontsize = labelsize)\n",
    "av.set_xlabel(\"Position x (m)\", fontsize = labelsize)\n",
    "av.tick_params(axis='both', which='major', labelsize=labelsize)\n",
    "plt.clim([-vmax,vmax])\n",
    "plt.set_cmap('bwr')\n",
    "\n",
    "fig = plt.figure()\n",
    "av = plt.subplot(111)\n",
    "plt.imshow(panel_dense1,extent=[ax[0],ax[-1],at[-1],at[0]],aspect='auto')\n",
    "plt.title('Observables non disponibles (seulement pour comparaison)', fontsize = labelsize)\n",
    "av.set_ylabel(\"Time (s)\", fontsize = labelsize)\n",
    "av.set_xlabel(\"Position x (m)\", fontsize = labelsize)\n",
    "av.tick_params(axis='both', which='major', labelsize=labelsize)\n",
    "plt.clim([-vmax,vmax])\n",
    "plt.set_cmap('bwr')"
   ]
  },
  {
   "cell_type": "markdown",
   "metadata": {},
   "source": [
    "# Partie 1. Données simples (7 points)\n",
    "\n",
    "## Approche théorique\n",
    "\n",
    "On peut supposer que $$u(t,x) = S\\big(t-t_0-p_0(x-x_0)\\big)$$\n",
    "\n",
    "C'est l'approximation linéaire mentionnée plus haut,\n",
    "avec $S(t)$ une ondelette source, $t_0$ le temps à la position $x=x_0$, et la pente_tab_tab_tab $p_0$ en s/m associée à l'événement. Ici : $t_0=0.2$ s (pour $x_0 = 0$ m) et $p_0=0.002$ s/m.\n",
    "\n",
    "Tracer la droite définie par $t_0$ et $p_0$ sur les observables (`gpanel1`) pour vérifier qu'elle se superpose bien à l'événement principal.\n"
   ]
  },
  {
   "cell_type": "code",
   "execution_count": null,
   "metadata": {},
   "outputs": [
    {
     "ename": "",
     "evalue": "",
     "output_type": "error",
     "traceback": [
      "\u001b[1;31mFailed to start the Kernel. \n",
      "\u001b[1;31mUnable to start Kernel 'minicondanouveau (Python 3.11.4)' due to a timeout waiting for the ports to get used. \n",
      "\u001b[1;31mView Jupyter <a href='command:jupyter.viewOutput'>log</a> for further details."
     ]
    }
   ],
   "source": [
    "vmax = np.max(np.abs(gpanel1))\n",
    "fig = plt.figure()\n",
    "av = plt.subplot(111)\n",
    "plt.imshow(gpanel1,extent=[ax[0],ax[-1],at[-1],at[0]],aspect='auto')\n",
    "plt.title('Observables (avec traces manquantes, mises à zero)', fontsize = labelsize)\n",
    "av.set_ylabel(\"Time (s)\", fontsize = labelsize)\n",
    "av.set_xlabel(\"Position x (m)\", fontsize = labelsize)\n",
    "av.tick_params(axis='both', which='major', labelsize=labelsize)\n",
    "plt.clim([-vmax,vmax])\n",
    "plt.set_cmap('bwr')\n",
    "\n",
    "#Tracer la droite \n",
    "t0 = 0.2\n",
    "x0 = 0 \n",
    "p0 = 0.002\n",
    "x_range = np.array([ax[0], ax[-1]])  # valeurs x pour tracer la droite\n",
    "t_line = t0 + p0 * (x_range - x0)  \n",
    "\n",
    "plt.plot(x_range, t_line, color='green', linewidth=2)\n",
    "plt.show()"
   ]
  },
  {
   "cell_type": "markdown",
   "metadata": {},
   "source": [
    "On observe que la droite tracée en vert et le signal enregistré se superposent bien. "
   ]
  },
  {
   "cell_type": "markdown",
   "metadata": {},
   "source": [
    "\n",
    "Calculer l'expression de la transformée de Fourier 2d $\\hat{u}(\\omega,k)$ de $u(t,x)$ à partir de la transformée de Fourier 1d $\\hat{S}(\\omega)$ de $S(t)$. En déduire une expression simple de $|\\hat{u}|$ en lien avec $|\\hat{S}(\\omega)|$. Expliquer toujours à partir des équations pourquoi on s'attend à avoir un événement linéaire dans le domaine de Fourier. Pourquoi l'événement passe-t-il par l'origine $(0,0)$ dans le domaine de Fourier? Donner une expression quantitative entre la pente_tab dans le domaine de Fourier $(\\omega,k)$ et la pente dans le domaine $(t,x)$.\n",
    "\n",
    "Pour simplifier l'expression, on peut utiliser\n",
    "\n",
    "$$\\int dx e^{-i k x} = \\delta(k)$$\n",
    "\n",
    "avec $\\delta$ la distribution de Dirac."
   ]
  },
  {
   "cell_type": "markdown",
   "metadata": {},
   "source": [
    "On utilise la définition de la transformée de Fourier, $$ \\^u(\\omega,k)=\\int_{x=-\\infty}^{x=+\\infty} \\int_{t=-\\infty}^{t=+\\infty} e^{-i(\\omega t + k x)} u(t,x) dt dx = \\int_{x=-\\infty}^{x=+\\infty} \\int_{t=-\\infty}^{t=+\\infty} e^{-i(\\omega t + k x)} S(t-t_{0}-p_{0}(x-x_{0})) dt dx $$ \n",
    "Soit  $$ \\^u(\\omega,k)= \\int_{x=-\\infty}^{x=+\\infty}   e^{-ikx} \\int_{t=-\\infty}^{t=+\\infty} e^{-i( \\omega t)} S(t-t_{0}-p_{0}(x-x_{0})) dt dx $$. \n",
    "On pose le changement de variable, $$ v = t-t_{0}-p_{0}(x-x_{0}) $$. \n",
    "Alors, d'après le théorème de Fubini, $$ \\^u(\\omega,k) =  \\int_{x=-\\infty}^{x=+\\infty}   e^{-ikx}  dx \\int_{v=-\\infty}^{v=+\\infty} e^{-i\\omega (v +t_{0} + p_{0}(x-x_{0})) }  S(v) dv $$. On a $$ \\^u(\\omega,k) = e^{-i\\omega (t_{0}-p_{0} x_{0})} \\int_{x=-\\infty}^{x=+\\infty}   e^{-i(k+\\omega p_{0}) x} dx \\int_{v=-\\infty}^{v=+\\infty} S(v) e^{-i\\omega v}) $$. \n",
    "\n",
    "On en déduit alors que $$  \\^u(\\omega,k) = e^{-i \\omega(t_{0}-p_{0}x_{0})}  \\delta(k+\\omega p_{0}) \\^S(\\omega) $$ et que $ |\\^u(\\omega,k) | = | \\delta(k+\\omega p_{0})  \\^S(\\omega)| $.\n",
    "\n",
    "Alors, $ \\^u(\\omega=0,k=0)= \\^S(0) $ et puisque $\\^S(0)=\\int_{t=-\\infty}^{t=+\\infty} S(t) dt $ l'événement passe par (0,0) dans le domaine de Fourier car il s'agit de l'intégrale du signal en un point. D'après l'expression obtenue par le calcul, la transformée de Fourier est non-nulle si $ k+\\omega p_{0}=0$ donc on a  $ p_{0} = \\frac{-k}{\\omega}$."
   ]
  },
  {
   "cell_type": "markdown",
   "metadata": {},
   "source": [
    "## Implémentation\n",
    "Représenter la transformée de Fourier 2d et bien préciser les axes. Faire le lien entre l'événement dans l'espace $(t,x)$ et celui dans l'espace de Fourier. Comme pour le domaine $(t,x)$, tracer la droite correspondante dans le domaine $(\\omega,k)$. Expliquer ce qu'il se passe aux bords dans le domaine de Fourier. N'hésitez pas à zoomer autour de la position centrale $(0,0)$ dans le domaine de Fourier pour une meilleure représentation."
   ]
  },
  {
   "cell_type": "code",
   "execution_count": null,
   "metadata": {},
   "outputs": [
    {
     "ename": "",
     "evalue": "",
     "output_type": "error",
     "traceback": [
      "\u001b[1;31mFailed to start the Kernel. \n",
      "\u001b[1;31mUnable to start Kernel 'minicondanouveau (Python 3.11.4)' due to a timeout waiting for the ports to get used. \n",
      "\u001b[1;31mView Jupyter <a href='command:jupyter.viewOutput'>log</a> for further details."
     ]
    }
   ],
   "source": [
    "tf = np.fft.fftshift(np.fft.fft2(gpanel1))\n",
    "# fftshift est utilisé pour recentrer les fréquences à zéro\n",
    "\n",
    "#renormalisation de la fréquence et du vecteur d'onde\n",
    "n = gpanel1.shape[0]\n",
    "m = gpanel1.shape[1]\n",
    "dt = np.abs(at[1] - at[0])\n",
    "dx = np.abs(ax[1] - ax[0])\n",
    "dw = 2 * np.pi / (m * dt)\n",
    "dk = 2 * np.pi / (n * dx)\n",
    "tf = np.fft.fftshift(np.fft.fft2(gpanel1))\n",
    "w = np.fft.fftshift(np.fft.fftfreq(m, dt)) * 2 * np.pi\n",
    "k = np.fft.fftshift(np.fft.fftfreq(n, dx)) * 2 * np.pi\n",
    "\n",
    "# Tracer la transformée de Fourier 2D\n",
    "plt.imshow(np.abs(tf), extent=[k[0],k[-1],w[0],w[-1]], aspect='auto')\n",
    "plt.title('Transformée de Fourier 2D')\n",
    "plt.xlabel('Ondelette k (en m-1)')\n",
    "plt.ylabel('Fréquence w (en s-1)')\n",
    "\n",
    "plt.ylim((-250,250)) #afin d'améliorer l'affichage \n",
    "plt.colorbar(label='Amplitude')\n",
    "plt.xlim(k[0],k[-1]) # Zoom (assez violent) pour mieux voir le signal de l'événement \n",
    "plt.ylim(w[0],w[-1])\n",
    "pente_droite=450\n",
    "plt.plot(k,k*pente_droite,c='green')\n",
    "plt.legend()\n",
    "plt.show()"
   ]
  },
  {
   "cell_type": "markdown",
   "metadata": {},
   "source": [
    "On observe que le lien entre les ondelettes $k$ et les pulsations $\\omega$ est tel que $ \\omega =\\frac{k}{0.002} $. "
   ]
  },
  {
   "cell_type": "markdown",
   "metadata": {},
   "source": [
    "## Définition d'un masque dans le domaine de Fourier 2d\n",
    "On note $\\omega$ la fréquence angulaire et $k$ le nombre d'onde. Dans le domaine de Fourier 2d, on souhaite définir un masque avec des 1 qui couvrent les événements principaux. A partir de $(\\omega,k)=(0,0)$, faire des sommations selon différentes pente_tabs (dans le domaine de Fourier, après avoir pris le module des valeurs complexes) et tracer la valeur de ces sommes en fonction de la pente_tab. On s'attend à ce que une valeur ressorte. Calculer une fonction qui sélectionne automatiquement cette valeur et construire un masque dans le domaine de Fourier 2d qui vaut 1 autour de la valeur principale et 0 en dehors."
   ]
  },
  {
   "cell_type": "code",
   "execution_count": null,
   "metadata": {},
   "outputs": [
    {
     "ename": "",
     "evalue": "",
     "output_type": "error",
     "traceback": [
      "\u001b[1;31mFailed to start the Kernel. \n",
      "\u001b[1;31mUnable to start Kernel 'minicondanouveau (Python 3.11.4)' due to a timeout waiting for the ports to get used. \n",
      "\u001b[1;31mView Jupyter <a href='command:jupyter.viewOutput'>log</a> for further details."
     ]
    }
   ],
   "source": [
    "import numpy as np\n",
    "import matplotlib.pyplot as plt\n",
    "\n",
    "n = gpanel1.shape[0]\n",
    "m = gpanel1.shape[1]\n",
    "dt = np.abs(at[1] - at[0])\n",
    "dx = np.abs(ax[1] - ax[0])\n",
    "dw = 2 * np.pi / (m * dt)\n",
    "dk = 2 * np.pi / (n * dx)\n",
    "tf = np.fft.fftshift(np.fft.fft2(gpanel1))\n",
    "w = np.fft.fftshift(np.fft.fftfreq(m, dt)) * 2 * np.pi\n",
    "k = np.fft.fftshift(np.fft.fftfreq(n, dx)) * 2 * np.pi\n",
    "\n",
    "def contin(tf,k_,w_):\n",
    "    return tf[int((w_-min(w))/(max(w)-min(w))*tf.shape[0]),int((k_-min(k))/(max(k)-min(k))*tf.shape[1])] # On récupère la valeur de la transformée de Fourier pour (k,w): il faut calculer les indices \n",
    "\n",
    "def pente_():\n",
    "    pente=np.linspace(-600,-400,100) # On choisit une liste assez large de pentes possibles \n",
    "    somme_pente=[]\n",
    "    for p in pente:\n",
    "        w_selec=[(k_,k_*p) for k_ in k[1:-1] if (k_*p > min(w)) and (k_*p < max(w))] # On génère des couples (k,pente*k), en prenant garde à ce que l'ordonnée reste dans l'intervalle admissible\n",
    "        s=0\n",
    "        for i in range(len(w_selec)):\n",
    "            s+=np.abs(contin(tf,w_selec[i][0],w_selec[i][1])) # On fait la somme le long de la droite donnée \n",
    "        somme_pente.append(s)\n",
    "    return pente,somme_pente,pente[np.argmax(somme_pente)]\n",
    "\n",
    "print(\"On trouve que la pente qui maximise la somme le long de la droite est\",pente_()[2])\n",
    "\n",
    "plt.title(\"Somme des valeurs de la transformée le long d'une droite (en fonction de la pente)\")\n",
    "plt.xlabel(\"pente p (en m.s-1)\")\n",
    "plt.ylabel(\"Somme le long de la droite \")\n",
    "plt.plot(pente_()[0],pente_()[1])\n",
    "plt.show()\n",
    "# Tracer la transformée de Fourier 2D\n",
    "plt.figure()\n",
    "plt.imshow(np.abs(tf), extent=[k[0], k[-1], w[0],w[-1]], aspect='auto')\n",
    "plt.title('Transformée de Fourier 2D')\n",
    "plt.plot(k,444*k)\n",
    "plt.xlabel('Ondelette k (en m-1)')\n",
    "plt.ylabel('Fréquence w (en s-1)')\n",
    "plt.colorbar(label='Amplitude')\n",
    "plt.legend()\n",
    "plt.show()\n"
   ]
  },
  {
   "cell_type": "markdown",
   "metadata": {},
   "source": [
    "## Application du masque et analyse des résultats\n",
    "Appliquer le masque (sur les données après transformée de Fourier 2d, sans prendre le module des valeurs), puis appliquer la transformée de Fourier inverse. Commenter les résultats. Si nécessaire, revenir à la question précédente pour changer la forme du masque et avoir une meilleure interpolation des données. Expliquer ces changements. Discuter de l'importance du masque."
   ]
  },
  {
   "cell_type": "code",
   "execution_count": null,
   "metadata": {},
   "outputs": [
    {
     "ename": "",
     "evalue": "",
     "output_type": "error",
     "traceback": [
      "\u001b[1;31mFailed to start the Kernel. \n",
      "\u001b[1;31mUnable to start Kernel 'minicondanouveau (Python 3.11.4)' due to a timeout waiting for the ports to get used. \n",
      "\u001b[1;31mView Jupyter <a href='command:jupyter.viewOutput'>log</a> for further details."
     ]
    }
   ],
   "source": [
    "\"\"\" La valeur maximale de la somme est atteinte pour une pente de p=200 s.m-1. On applique donc le filtre avec cette valeur de pente.\"\"\"\n",
    "\n",
    "n = gpanel1.shape[0]\n",
    "dt = np.abs(at[1] - at[0])\n",
    "dx = np.abs(ax[1] - ax[0])\n",
    "dw = 2 * np.pi / (n * dt)\n",
    "dk = 2 * np.pi / (n * dx)\n",
    "tf = np.fft.fftshift(np.fft.fft2(gpanel1))\n",
    "w = np.fft.fftshift(np.fft.fftfreq(n, dt)) * 2 * np.pi\n",
    "k = np.fft.fftshift(np.fft.fftfreq(n, dx)) * 2 * np.pi\n",
    "\n",
    "plt.figure()\n",
    "plt.imshow(np.abs(tf), extent=[k[0], k[-1], -250, 250], aspect='auto')\n",
    "plt.title('Transformée de Fourier 2D avant masque')\n",
    "plt.xlabel('Ondelette k (en m-1)')\n",
    "plt.ylabel('Fréquence w (en s-1)')\n",
    "plt.colorbar(label='Amplitude')\n",
    "plt.legend()\n",
    "plt.show()\n",
    "\n",
    "\n",
    "p_=-444\n",
    "tf_m=tf.copy()\n",
    "\n",
    "# On crée le masque adapté, en mettant des 1 qu'au niveau des indices qui correspondent aux points le long de la droite. \n",
    "mask=np.zeros((tf.shape[0],tf.shape[1]),dtype=int)\n",
    "for k_ in np.linspace(-0.25,0.25,100):\n",
    "    mask[int((k_*p_-min(w))/(max(w)-min(w))*tf.shape[0]),int((k_-min(k))/(max(k)-min(k))*tf.shape[1])]=1\n",
    "    if int((k_*p_-min(w))/(max(w)-min(w))*tf.shape[0]) < tf.shape[0]-2:\n",
    "        mask[int((k_*p_-min(w))/(max(w)-min(w))*tf.shape[0])+1,int((k_-min(k))/(max(k)-min(k))*tf.shape[1])]=1\n",
    "    if int((k_*p_-min(w))/(max(w)-min(w))*tf.shape[0])-1>0:\n",
    "        mask[int((k_*p_-min(w))/(max(w)-min(w))*tf.shape[0])-1,int((k_-min(k))/(max(k)-min(k))*tf.shape[1])]=1\n",
    "    \n",
    "\n",
    "tf_m=tf*mask\n",
    "# Tracer la transformée de Fourier 2D\n",
    "plt.figure()\n",
    "plt.imshow(np.abs(tf_m), extent=[k[0], k[-1], w[0], w[-1]], aspect='auto')\n",
    "plt.title('Transformée de Fourier 2D après masque ')\n",
    "plt.xlabel('Ondelette k (en m-1)')\n",
    "plt.ylabel('Fréquence w (en s-1)')\n",
    "plt.colorbar(label='Amplitude')\n",
    "plt.legend()\n",
    "plt.show()"
   ]
  },
  {
   "cell_type": "code",
   "execution_count": null,
   "metadata": {},
   "outputs": [
    {
     "ename": "",
     "evalue": "",
     "output_type": "error",
     "traceback": [
      "\u001b[1;31mFailed to start the Kernel. \n",
      "\u001b[1;31mUnable to start Kernel 'minicondanouveau (Python 3.11.4)' due to a timeout waiting for the ports to get used. \n",
      "\u001b[1;31mView Jupyter <a href='command:jupyter.viewOutput'>log</a> for further details."
     ]
    }
   ],
   "source": [
    "vmax=np.max(np.real(np.fft.ifft2(tf_m)))\n",
    "fig = plt.figure()\n",
    "av = plt.subplot(111)\n",
    "plt.imshow(np.real(np.fft.ifft2(tf_m)),extent=[ax[0],ax[-1],at[-1],at[0]],aspect='auto')\n",
    "plt.title('Résultat après traitement du signal', fontsize = labelsize)\n",
    "av.set_ylabel(\"Time (s)\", fontsize = labelsize)\n",
    "av.set_xlabel(\"Position x (m)\", fontsize = labelsize)\n",
    "av.tick_params(axis='both', which='major', labelsize=labelsize)\n",
    "plt.clim([0,vmax])\n",
    "plt.set_cmap('bwr')"
   ]
  },
  {
   "cell_type": "markdown",
   "metadata": {},
   "source": [
    "On constate que le traitement appliqué permet de faire disparaître les zones manquantes suite à l'acquisition du signal. Néanmoins, on constate l'apparition de nouveaux signaux parasites. On peut proposer, pour résoudre le problème, d'appliquer un filtre passe_bas aux vecteurs d'onde k. "
   ]
  },
  {
   "cell_type": "markdown",
   "metadata": {},
   "source": [
    "# Partie 2. Données complexes (7 points)\n",
    "\n",
    "Recommencer la même procédure (interpolation des données) sur les données plus complexes (`gpanel2.npy`). Analyser les similitudes et différences, et en particulier les difficultés rencontrées.\n",
    "\n",
    "Les pente sont : \n",
    "$p_0 = 0.006$, $p_1 = 0.002$, $p_2 = -0.004$ et $p_3 = -0.0005$ en s/m \n",
    "et les temps associes (pour $x_0=0$ m) : $t_0 = 0.1$, $t_1 = 0.3$, $t_2 = 1.1$ et $t_3 = 1.8$ en s.\n"
   ]
  },
  {
   "cell_type": "code",
   "execution_count": null,
   "metadata": {},
   "outputs": [
    {
     "ename": "",
     "evalue": "",
     "output_type": "error",
     "traceback": [
      "\u001b[1;31mFailed to start the Kernel. \n",
      "\u001b[1;31mUnable to start Kernel 'minicondanouveau (Python 3.11.4)' due to a timeout waiting for the ports to get used. \n",
      "\u001b[1;31mView Jupyter <a href='command:jupyter.viewOutput'>log</a> for further details."
     ]
    }
   ],
   "source": [
    "# Load the input data\n",
    "# Input data (with missing traces)\n",
    "gpanel2 = np.load('gpanel2.npy')\n",
    "# Dense data (with all traces, only for comparison)\n",
    "panel_dense2 = np.load('panel_dense2.npy')\n",
    "nt, nx = gpanel2.shape\n",
    "print(\"Taille des données :\",nt,nx)"
   ]
  },
  {
   "cell_type": "markdown",
   "metadata": {},
   "source": [
    "**Affichage des données**"
   ]
  },
  {
   "cell_type": "code",
   "execution_count": null,
   "metadata": {},
   "outputs": [
    {
     "ename": "",
     "evalue": "",
     "output_type": "error",
     "traceback": [
      "\u001b[1;31mFailed to start the Kernel. \n",
      "\u001b[1;31mUnable to start Kernel 'minicondanouveau (Python 3.11.4)' due to a timeout waiting for the ports to get used. \n",
      "\u001b[1;31mView Jupyter <a href='command:jupyter.viewOutput'>log</a> for further details."
     ]
    }
   ],
   "source": [
    "# Display of the input data\n",
    "vmax    = np.max(np.abs(gpanel2))\n",
    "fig = plt.figure()\n",
    "av = plt.subplot(111)\n",
    "plt.imshow(gpanel2,extent=[ax[0],ax[-1],at[-1],at[0]],aspect='auto')\n",
    "plt.title('Observables (avec traces manquantes, mises à zero)', fontsize = labelsize)\n",
    "av.set_ylabel(\"Time (s)\", fontsize = labelsize)\n",
    "av.set_xlabel(\"Position x (m)\", fontsize = labelsize)\n",
    "av.tick_params(axis='both', which='major', labelsize=labelsize)\n",
    "plt.clim([-vmax,vmax])\n",
    "plt.set_cmap('bwr')\n",
    "\n",
    "fig = plt.figure()\n",
    "av = plt.subplot(111)\n",
    "plt.imshow(panel_dense2,extent=[ax[0],ax[-1],at[-1],at[0]],aspect='auto')\n",
    "plt.title('Observables non disponibles (seulement pour comparaison)', fontsize = labelsize)\n",
    "av.set_ylabel(\"Time (s)\", fontsize = labelsize)\n",
    "av.set_xlabel(\"Position x (m)\", fontsize = labelsize)\n",
    "av.tick_params(axis='both', which='major', labelsize=labelsize)\n",
    "plt.clim([-vmax,vmax])\n",
    "plt.set_cmap('bwr')"
   ]
  },
  {
   "cell_type": "code",
   "execution_count": null,
   "metadata": {},
   "outputs": [
    {
     "ename": "",
     "evalue": "",
     "output_type": "error",
     "traceback": [
      "\u001b[1;31mFailed to start the Kernel. \n",
      "\u001b[1;31mUnable to start Kernel 'minicondanouveau (Python 3.11.4)' due to a timeout waiting for the ports to get used. \n",
      "\u001b[1;31mView Jupyter <a href='command:jupyter.viewOutput'>log</a> for further details."
     ]
    }
   ],
   "source": [
    "# Calcul de la transformée de Fourier 2D\n",
    "tf2 = np.fft.fftshift(np.fft.fft2(gpanel2))\n",
    "# fftshift est utilisé pour recentrer les fréquences à zéro\n",
    "\n",
    "# Création des axes de fréquence (w) et d'onde (k)\n",
    "n = gpanel2.shape[0]\n",
    "m = gpanel2.shape[1]\n",
    "dt = np.abs(at[1] - at[0])\n",
    "dx = np.abs(ax[1] - ax[0])\n",
    "dw = 2 * np.pi / (m * dt)\n",
    "dk = 2 * np.pi / (n * dx)\n",
    "w2 = np.fft.fftshift(np.fft.fftfreq(m, dt)) * 2 * np.pi\n",
    "k2 = np.fft.fftshift(np.fft.fftfreq(n, dx)) * 2 * np.pi\n",
    "\n",
    "# Tracer la transformée de Fourier 2D\n",
    "plt.imshow(np.abs(tf2), extent=[k2[0], k2[-1], w2[0], w2[-1] ], aspect='auto')\n",
    "plt.title('Transformée de Fourier 2D du signal gpanel2')\n",
    "plt.xlabel('Ondelette k (en m-1)')\n",
    "plt.ylabel('Fréquence w (en s-1)')\n",
    "plt.ylim(-100,100)\n",
    "plt.colorbar(label='Amplitude')\n",
    "plt.legend()\n",
    "plt.show()"
   ]
  },
  {
   "cell_type": "markdown",
   "metadata": {},
   "source": [
    "On se contente ici d'adapter la méthode de la partie 1. La difficulté principale est qu'il faut trouver plusieurs pentes, et plus seulement la pente qui maximise la somme le long de la droite. On constate cependant que 4 droites (2 avec une pente négative, et 2 avec une pente positive) semblent maximiser la somme du module de la transformée de Fourier le long de la droite. On cherche donc quatre extrema de la somme de la transformée de Fourier en tenant compte de cette information. "
   ]
  },
  {
   "cell_type": "code",
   "execution_count": 1,
   "metadata": {},
   "outputs": [
    {
     "ename": "NameError",
     "evalue": "name 'np' is not defined",
     "output_type": "error",
     "traceback": [
      "\u001b[1;31m---------------------------------------------------------------------------\u001b[0m",
      "\u001b[1;31mNameError\u001b[0m                                 Traceback (most recent call last)",
      "Cell \u001b[1;32mIn[1], line 1\u001b[0m\n\u001b[1;32m----> 1\u001b[0m mask\u001b[38;5;241m=\u001b[39m\u001b[43mnp\u001b[49m\u001b[38;5;241m.\u001b[39mzeros((tf2\u001b[38;5;241m.\u001b[39mshape[\u001b[38;5;241m0\u001b[39m],tf2\u001b[38;5;241m.\u001b[39mshape[\u001b[38;5;241m1\u001b[39m]),dtype\u001b[38;5;241m=\u001b[39m\u001b[38;5;28mint\u001b[39m)\n\u001b[0;32m      2\u001b[0m tf2_m\u001b[38;5;241m=\u001b[39mnp\u001b[38;5;241m.\u001b[39mzeros((tf2\u001b[38;5;241m.\u001b[39mshape[\u001b[38;5;241m0\u001b[39m],tf2\u001b[38;5;241m.\u001b[39mshape[\u001b[38;5;241m1\u001b[39m]),dtype\u001b[38;5;241m=\u001b[39m\u001b[38;5;124m'\u001b[39m\u001b[38;5;124mcomplex\u001b[39m\u001b[38;5;124m'\u001b[39m)\n\u001b[0;32m      3\u001b[0m \u001b[38;5;28;01mfor\u001b[39;00m p_ \u001b[38;5;129;01min\u001b[39;00m [\u001b[38;5;241m1\u001b[39m\u001b[38;5;241m/\u001b[39m\u001b[38;5;241m0.006\u001b[39m, \u001b[38;5;241m1\u001b[39m\u001b[38;5;241m/\u001b[39m\u001b[38;5;241m0.002\u001b[39m , \u001b[38;5;241m1\u001b[39m\u001b[38;5;241m/\u001b[39m(\u001b[38;5;241m-\u001b[39m\u001b[38;5;241m0.004\u001b[39m) , \u001b[38;5;241m1\u001b[39m\u001b[38;5;241m/\u001b[39m(\u001b[38;5;241m-\u001b[39m\u001b[38;5;241m0.0005\u001b[39m)]:\n",
      "\u001b[1;31mNameError\u001b[0m: name 'np' is not defined"
     ]
    }
   ],
   "source": [
    "\n",
    "mask=np.zeros((tf2.shape[0],tf2.shape[1]),dtype=int)\n",
    "tf2_m=np.zeros((tf2.shape[0],tf2.shape[1]),dtype='complex')\n",
    "for p_ in [1/0.006, 1/0.002 , 1/(-0.004) , 1/(-0.0005)]:\n",
    "    for k_ in np.linspace(-0.25,0.25,100):\n",
    "        mask[int((k_*p_-min(w))/(max(w)-min(w))*tf2.shape[0]),int((k_-min(k))/(max(k)-min(k))*tf2.shape[1])]=1        \n",
    "        if int((k_*p_-min(w))/(max(w)-min(w))*tf2.shape[0]) < tf2.shape[0]-2:\n",
    "            mask[int((k_*p_-min(w))/(max(w)-min(w))*tf2.shape[0])+1,int((k_-min(k))/(max(k)-min(k))*tf2.shape[1])]=1\n",
    "        if int((k_*p_-min(w))/(max(w)-min(w))*tf2.shape[0])-1>0:\n",
    "            mask[int((k_*p_-min(w))/(max(w)-min(w))*tf2.shape[0])-1,int((k_-min(k))/(max(k)-min(k))*tf2.shape[1])]=1\n",
    "\n",
    "\n",
    "tf2_m=tf2*mask\n",
    "\n",
    "# Tracer la transformée de Fourier 2D\n",
    "plt.imshow(np.abs(tf2_m), extent=[k2[0], k2[-1], w2[0], w2[-1] ], aspect='auto')\n",
    "plt.title('Transformée de Fourier 2D du signal gpanel2 après traitement (avec un masque adapté)')\n",
    "plt.xlabel('Ondelette k (en m-1)')\n",
    "plt.ylabel('Fréquence w (en s-1)')\n",
    "plt.ylim(-100,100)\n",
    "plt.colorbar(label='Amplitude')\n",
    "plt.legend()\n",
    "plt.show()"
   ]
  },
  {
   "cell_type": "markdown",
   "metadata": {},
   "source": [
    "Cependant, il est clair que les fenêtres appliquées successivemebt se chevauchent. Cela conduit à réduire voire annuler certaines composantes, qu'on aurait pourtant voulu garder, de la transformée de Fourier du signal."
   ]
  },
  {
   "cell_type": "code",
   "execution_count": null,
   "metadata": {},
   "outputs": [
    {
     "ename": "",
     "evalue": "",
     "output_type": "error",
     "traceback": [
      "\u001b[1;31mFailed to start the Kernel. \n",
      "\u001b[1;31mUnable to start Kernel 'minicondanouveau (Python 3.11.4)' due to a timeout waiting for the ports to get used. \n",
      "\u001b[1;31mView Jupyter <a href='command:jupyter.viewOutput'>log</a> for further details."
     ]
    }
   ],
   "source": [
    "vmax=np.max(np.real(np.fft.ifft2(tf2_m)))\n",
    "fig = plt.figure()\n",
    "av = plt.subplot(111)\n",
    "plt.imshow(np.real(np.fft.ifft2(tf2_m)),extent=[ax[0],ax[-1],at[-1],at[0]], aspect='auto')\n",
    "plt.title('Résultat après traitement du signal', fontsize = labelsize)\n",
    "av.set_ylabel(\"Time (s)\", fontsize = labelsize)\n",
    "av.set_xlabel(\"Position x (m)\", fontsize = labelsize)\n",
    "av.tick_params(axis='both', which='major', labelsize=labelsize)\n",
    "plt.clim([0,vmax])\n",
    "plt.set_cmap('bwr')"
   ]
  },
  {
   "cell_type": "markdown",
   "metadata": {},
   "source": [
    "On constate que l'on ne peut plus distinguer clairement les 4 droites, qui étaient pourtant clairement identifiables à l'origine. On va donc chercher à modifier le traitement appliqué à la transformée de Fourier de gpanel2. "
   ]
  },
  {
   "cell_type": "code",
   "execution_count": null,
   "metadata": {},
   "outputs": [
    {
     "ename": "",
     "evalue": "",
     "output_type": "error",
     "traceback": [
      "\u001b[1;31mFailed to start the Kernel. \n",
      "\u001b[1;31mUnable to start Kernel 'minicondanouveau (Python 3.11.4)' due to a timeout waiting for the ports to get used. \n",
      "\u001b[1;31mView Jupyter <a href='command:jupyter.viewOutput'>log</a> for further details."
     ]
    }
   ],
   "source": [
    "mask=np.zeros((tf2.shape[0],tf2.shape[1]),dtype=int)\n",
    "tf2_m=np.zeros((tf2.shape[0],tf2.shape[1]),dtype='complex')\n",
    "for p_ in [1/0.006, 1/0.002 , 1/(-0.004) , 1/(-0.0005)]:\n",
    "    for k_ in np.linspace(-0.25,0.25,100):\n",
    "        mask[int((k_*p_-min(w))/(max(w)-min(w))*tf2.shape[0]),int((k_-min(k))/(max(k)-min(k))*tf2.shape[1])]=1       \n",
    "\n",
    "tf2_m=tf2*mask\n",
    "\n",
    "va_abs_max=np.max(np.abs(tf2_m))\n",
    "for i in range(mask.shape[0]):\n",
    "    for j in range(mask.shape[1]):\n",
    "        if mask[i][j]:\n",
    "            tf2_m[i][j]=np.sqrt(np.abs(va_abs_max*tf2_m[i][j]))/np.sqrt((np.abs(tf2_m[i][j])+0.001))\n",
    "            #tf2_m[i][j]=np.sqrt((np.abs(tf2_m[i][j]))/(va_abs_max))*tf2_m[i][j]\n",
    "\n",
    "plt.imshow(np.abs(tf2_m), extent=[k2[0], k2[-1], w2[0], w2[-1] ], aspect='auto')\n",
    "plt.title('Transformée de Fourier 2D du signal gpanel2 après le nouveau traitement (avec un masque adapté)')\n",
    "plt.xlabel('Ondelette k (en m-1)')\n",
    "plt.ylabel('Fréquence w (en s-1)')\n",
    "plt.ylim(-100,100)\n",
    "plt.colorbar(label='Amplitude')\n",
    "plt.legend()\n",
    "plt.show()"
   ]
  },
  {
   "cell_type": "code",
   "execution_count": null,
   "metadata": {},
   "outputs": [
    {
     "ename": "",
     "evalue": "",
     "output_type": "error",
     "traceback": [
      "\u001b[1;31mFailed to start the Kernel. \n",
      "\u001b[1;31mUnable to start Kernel 'minicondanouveau (Python 3.11.4)' due to a timeout waiting for the ports to get used. \n",
      "\u001b[1;31mView Jupyter <a href='command:jupyter.viewOutput'>log</a> for further details."
     ]
    }
   ],
   "source": [
    "vmax=np.max(np.real(np.fft.ifft2(tf2_m)))\n",
    "fig = plt.figure()\n",
    "av = plt.subplot(111)\n",
    "plt.imshow(np.real(np.fft.ifft2(tf2_m)),extent=[ax[0],ax[-1],at[-1],at[0]],aspect='auto')\n",
    "plt.title('Résultat après traitement du signal', fontsize = labelsize)\n",
    "av.set_ylabel(\"Time (s)\", fontsize = labelsize)\n",
    "av.set_xlabel(\"Position x (m)\", fontsize = labelsize)\n",
    "av.tick_params(axis='both', which='major', labelsize=labelsize)\n",
    "plt.clim([0,vmax])\n",
    "plt.set_cmap('bwr')"
   ]
  },
  {
   "cell_type": "markdown",
   "metadata": {},
   "source": [
    "# Partie 3. Analyse des limites de l'approche (6 points)\n",
    "Proposer une nouvelle application sur votre propre jeu de donnees. Vous pouvez par exemple :\n",
    "* ajouter du bruit sur gpanel1 ou gpanel2\n",
    "* enlever encore plus de données en entrée (plus de traces blanches) \n",
    "* tester sur vos propres données / sur des images récupérées sur internet\n",
    "\n",
    "Illustrer et discuter une limite (ou plusieurs) que rencontre l'interpolation dans le domaine de Fourier.\n",
    "\n",
    "**Cette dernière partie est très ouverte et je fais appel à votre créativité.**"
   ]
  }
 ],
 "metadata": {
  "kernelspec": {
   "display_name": "Python 3 (ipykernel)",
   "language": "python",
   "name": "python3"
  },
  "language_info": {
   "codemirror_mode": {
    "name": "ipython",
    "version": 3
   },
   "file_extension": ".py",
   "mimetype": "text/x-python",
   "name": "python",
   "nbconvert_exporter": "python",
   "pygments_lexer": "ipython3",
   "version": "3.11.4"
  },
  "latex_envs": {
   "LaTeX_envs_menu_present": true,
   "autoclose": false,
   "autocomplete": true,
   "bibliofile": "biblio.bib",
   "cite_by": "apalike",
   "current_citInitial": 1,
   "eqLabelWithNumbers": true,
   "eqNumInitial": 1,
   "hotkeys": {
    "equation": "Ctrl-E",
    "itemize": "Ctrl-I"
   },
   "labels_anchors": false,
   "latex_user_defs": false,
   "report_style_numbering": false,
   "user_envs_cfg": false
  },
  "toc": {
   "base_numbering": 1,
   "nav_menu": {},
   "number_sections": true,
   "sideBar": true,
   "skip_h1_title": false,
   "title_cell": "Table of Contents",
   "title_sidebar": "Contents",
   "toc_cell": false,
   "toc_position": {},
   "toc_section_display": true,
   "toc_window_display": false
  },
  "varInspector": {
   "cols": {
    "lenName": 16,
    "lenType": 16,
    "lenVar": 40
   },
   "kernels_config": {
    "python": {
     "delete_cmd_postfix": "",
     "delete_cmd_prefix": "del ",
     "library": "var_list.py",
     "varRefreshCmd": "print(var_dic_list())"
    },
    "r": {
     "delete_cmd_postfix": ") ",
     "delete_cmd_prefix": "rm(",
     "library": "var_list.r",
     "varRefreshCmd": "cat(var_dic_list()) "
    }
   },
   "types_to_exclude": [
    "module",
    "function",
    "builtin_function_or_method",
    "instance",
    "_Feature"
   ],
   "window_display": false
  }
 },
 "nbformat": 4,
 "nbformat_minor": 2
}
